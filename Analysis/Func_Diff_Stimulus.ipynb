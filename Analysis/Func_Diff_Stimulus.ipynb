{
 "cells": [
  {
   "cell_type": "markdown",
   "metadata": {},
   "source": [
    "### Function to differentiate stimulus types "
   ]
  },
  {
   "cell_type": "code",
   "execution_count": 1,
   "metadata": {},
   "outputs": [
    {
     "ename": "NameError",
     "evalue": "name 'HCP_DIR' is not defined",
     "output_type": "error",
     "traceback": [
      "\u001b[0;31m---------------------------------------------------------------------------\u001b[0m",
      "\u001b[0;31mNameError\u001b[0m                                 Traceback (most recent call last)",
      "\u001b[0;32m<ipython-input-1-32935fca1aec>\u001b[0m in \u001b[0;36m<module>\u001b[0;34m\u001b[0m\n\u001b[1;32m     55\u001b[0m                             T, fmt=['%.3f','%.d', '%.d','%.d', '%.d'], delimiter='\\t')\n\u001b[1;32m     56\u001b[0m \u001b[0;34m\u001b[0m\u001b[0m\n\u001b[0;32m---> 57\u001b[0;31m \u001b[0mdiff_error_types\u001b[0m\u001b[0;34m(\u001b[0m\u001b[0mHCP_DIR\u001b[0m\u001b[0;34m,\u001b[0m \u001b[0msubjects\u001b[0m\u001b[0;34m)\u001b[0m\u001b[0;34m\u001b[0m\u001b[0;34m\u001b[0m\u001b[0m\n\u001b[0m",
      "\u001b[0;31mNameError\u001b[0m: name 'HCP_DIR' is not defined"
     ]
    }
   ],
   "source": [
    "def return_X_sorted(HCP_DIR, subject, task_key):\n",
    "    '''Loads _cor.txt and _err.txt files, concatenates and sorts after time\n",
    "    \n",
    "    Args:\n",
    "    - HCP_DIR (str)  : path of directory \n",
    "    - subject (int)  : current subject \n",
    "    - task_key(str)  : task key of current task\n",
    "    \n",
    "    Returns: \n",
    "    - X (np.ndarray) : 80x2 ndarray with columns time stamp and errors (1 = error)\n",
    "    '''\n",
    "    corr = np.genfromtxt(f\"{HCP_DIR}/subjects/{subject}/EVs/{task_key}/all_bk_cor.txt\")\n",
    "    err =  np.genfromtxt(f\"{HCP_DIR}/subjects/{subject}/EVs/{task_key}/all_bk_err.txt\")\n",
    "    corr = np.hstack((corr[:,0].reshape(-1,1), np.zeros_like(corr[:,0].reshape(-1,1))))\n",
    "    err = np.hstack((err[:,0].reshape(-1,1), np.ones_like(err[:,0]).reshape(-1,1)))\n",
    "    X = np.vstack((corr, err))\n",
    "    X = X[X[:,0].argsort()]\n",
    "    \n",
    "    return X \n",
    "\n",
    "def diff_error_types(HCP_DIR, subjects):\n",
    "    stimuli = ['faces', 'body', 'tools', 'places']\n",
    "    task_keys = [\"tfMRI_WM_RL\", \"tfMRI_WM_LR\"]\n",
    "    errortypes = ['0bk_', '2bk_']\n",
    "    cue_duration = 2.565\n",
    "    len_block = 10\n",
    "    temp_zeros = np.zeros([80,4])\n",
    "    for subject in subjects[:2]:\n",
    "        for task_key in task_keys[:1]:\n",
    "            X = return_X_sorted(HCP_DIR=HCP_DIR, subject=subject, task_key=task_key)\n",
    "\n",
    "            for errortype in errortypes:\n",
    "                temp_zeros = np.zeros([80,4])\n",
    "                for index, stimulus in enumerate(stimuli):\n",
    "                    stim_name = errortype + stimulus\n",
    "                    stim = np.genfromtxt(f\"{HCP_DIR}/subjects/{subject}/EVs/{task_key}/{stim_name}.txt\")\n",
    "                    #Search for index of start value (min distance between stim onset + \n",
    "                    # cue duration and start of block in onset times of X)\n",
    "                    min_index = np.argmin(np.abs(X[:,0] - (stim[0] + cue_duration)))\n",
    "                    # Create new column of zeros and ones \n",
    "                    temp_zeros[min_index:min_index+len_block, index] = 1\n",
    "                    T = np.hstack((X[:,0].reshape(-1,1), temp_zeros))\n",
    "\n",
    "                    #Create new file with time stamps \n",
    "                    M = np.hstack((X[min_index : min_index+len_block, 0].reshape(-1,1), np.full((len_block,1),2.5),\n",
    "                                   np.full((len_block, 1), 1)))\n",
    "                    # Optional if we want to include the first line \n",
    "                    M = np.vstack((stim, M))\n",
    "                    # Write file in source directory\n",
    "                    np.savetxt(f\"{HCP_DIR}/subjects/{subject}/EVs/{task_key}/{stim_name}_ts.txt\",\n",
    "                               M, fmt=['%.3f','%.1f', '%.d'], delimiter='\\t')\n",
    "                \n",
    "                #Write T into file\n",
    "                np.savetxt(f\"{HCP_DIR}/subjects/{subject}/EVs/{task_key}/all_{errortype}ts.txt\",\n",
    "                            T, fmt=['%.3f','%.d', '%.d','%.d', '%.d'], delimiter='\\t')\n",
    "\n",
    "diff_error_types(HCP_DIR, subjects)"
   ]
  },
  {
   "cell_type": "code",
   "execution_count": null,
   "metadata": {},
   "outputs": [],
   "source": []
  }
 ],
 "metadata": {
  "kernelspec": {
   "display_name": "Python 3",
   "language": "python",
   "name": "python3"
  },
  "language_info": {
   "codemirror_mode": {
    "name": "ipython",
    "version": 3
   },
   "file_extension": ".py",
   "mimetype": "text/x-python",
   "name": "python",
   "nbconvert_exporter": "python",
   "pygments_lexer": "ipython3",
   "version": "3.7.4"
  },
  "toc": {
   "base_numbering": 1,
   "nav_menu": {},
   "number_sections": true,
   "sideBar": true,
   "skip_h1_title": false,
   "title_cell": "Table of Contents",
   "title_sidebar": "Contents",
   "toc_cell": false,
   "toc_position": {},
   "toc_section_display": true,
   "toc_window_display": false
  }
 },
 "nbformat": 4,
 "nbformat_minor": 2
}
