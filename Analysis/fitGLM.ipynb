{
 "cells": [
  {
   "cell_type": "code",
   "execution_count": null,
   "metadata": {},
   "outputs": [],
   "source": [
    "def fitGLM(design_matrix_GLM,TimeSeries):\n",
    "    \"\"\"Takes design matrix and timeseries data and applies MLE to generate beta-estimates\n",
    "    Args: \n",
    "        design_matrix_GLM: C x Vol array with predicted BOLD signal per volume per regressor (MAY NOT CONTAIN 0-SUM VECTORS)\n",
    "        TimeSeries: Region x Vol array with actual BOLD signal averaged across regions\n",
    "    Return:\n",
    "        beta: Region x Condition ndarray\n",
    "    \"\"\"\n",
    "    X=design_matrix_GLM\n",
    "    ts=TimeSeries[0][0] # get time-series array\n",
    "    beta=np.empty((np.size(ts,axis=0),np.size(X,axis=1)))\n",
    "    for R in range(np.size(ts,axis=0)):\n",
    "        beta[R,:] = np.linalg.inv(X.T @ X) @ X.T @ ts[R,:].T # needs to \n",
    "    return beta "
   ]
  }
 ],
 "metadata": {
  "kernelspec": {
   "display_name": "Python 3",
   "language": "python",
   "name": "python3"
  },
  "language_info": {
   "codemirror_mode": {
    "name": "ipython",
    "version": 3
   },
   "file_extension": ".py",
   "mimetype": "text/x-python",
   "name": "python",
   "nbconvert_exporter": "python",
   "pygments_lexer": "ipython3",
   "version": "3.7.6"
  }
 },
 "nbformat": 4,
 "nbformat_minor": 4
}
