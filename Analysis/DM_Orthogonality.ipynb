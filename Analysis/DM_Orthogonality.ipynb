{
 "cells": [
  {
   "cell_type": "code",
   "execution_count": 9,
   "metadata": {},
   "outputs": [],
   "source": [
    "# Write a function to test the orthogonality of a design matrix\n",
    "# Author: Clara Kuper\n",
    "# 23/07/2020\n",
    "\n",
    "import numpy as np\n",
    "import matplotlib.pyplot as plt"
   ]
  },
  {
   "cell_type": "code",
   "execution_count": 56,
   "metadata": {},
   "outputs": [
    {
     "data": {
      "text/plain": [
       "array([[0.33333333, 0.16666667, 0.33333333, 0.16666667, 0.        ,\n",
       "        0.        ],\n",
       "       [0.16666667, 0.33333333, 0.16666667, 0.33333333, 0.        ,\n",
       "        0.        ],\n",
       "       [0.33333333, 0.16666667, 0.33333333, 0.16666667, 0.        ,\n",
       "        0.        ],\n",
       "       [0.16666667, 0.33333333, 0.16666667, 0.33333333, 0.        ,\n",
       "        0.        ],\n",
       "       [0.        , 0.        , 0.        , 0.        , 0.16666667,\n",
       "        0.16666667],\n",
       "       [0.        , 0.        , 0.        , 0.        , 0.16666667,\n",
       "        0.16666667]])"
      ]
     },
     "execution_count": 56,
     "metadata": {},
     "output_type": "execute_result"
    }
   ],
   "source": [
    "# set some start variables\n",
    "# the shape of the design matrix is based on the script \"DataAnalysis_Errorss\"\n",
    "mat_shape = (4050, 2)\n",
    "design_matrix = np.array([[1, 0, 1, 0, 0, 0],\n",
    "                [0, 1, 0, 1, 0 ,0],\n",
    "                [0, 0, 0, 0, 1, 1],\n",
    "                [1, 1, 1, 1, 0, 0]])\n",
    "\n",
    "def test_orthogonality(design_matrix, warn = False):\n",
    "    \n",
    "    \"\"\"\n",
    "    takes a design martix and computed the correlation between conditions\n",
    "    \n",
    "    input:\n",
    "    design_matrix = m x n np.array with condition columns and time line as a row\n",
    "    \n",
    "    output:\n",
    "    orth_mat = np.array of size n x n indicating the orthogonality of each condition to each other condition\n",
    "    \"\"\"\n",
    "    \n",
    "    # initialize the output matrix\n",
    "    design_dim = design_matrix.shape\n",
    "    orth_mat = np.zeros((design_dim[1], design_dim[1]))\n",
    "    \n",
    "    # two vectors are orthogonal, if their dot product is zero\n",
    "    # loop through all conditions\n",
    "    for condition in range(0,design_dim[1]):\n",
    "        cond_1 = design_matrix[:,condition]\n",
    "        # compare to all conditions\n",
    "        for compare in range(0, design_dim[1]):\n",
    "            cond_2 = design_matrix[:,compare]\n",
    "            \n",
    "            orth_mat[condition,compare] = cond_1@cond_2/design_dim[1]\n",
    "            \n",
    "    # throw a warning for conditions that are not orthogonal\n",
    "    if warn:\n",
    "        warnings = np.where(orth_mat>0)\n",
    "        for pos in range(0,len(warnings[0])):\n",
    "            check_pos = np.zeros(len(warnings))\n",
    "\n",
    "            for dim in range(0,len(warnings)):\n",
    "                check_pos[dim] = warnings[dim][pos]\n",
    "\n",
    "            print(check_pos)\n",
    "            if not (check_pos[0]== check_pos[1]):\n",
    "                print('Watch out, the matrix is not orthogonal for conditons {}'.format(check_pos))\n",
    "\n",
    "\n",
    "    \n",
    "    \n",
    "    return orth_mat\n",
    "\n",
    "test_orthogonality(design_matrix)\n",
    "                        "
   ]
  },
  {
   "cell_type": "code",
   "execution_count": 36,
   "metadata": {},
   "outputs": [
    {
     "ename": "ValueError",
     "evalue": "invalid number of arguments",
     "output_type": "error",
     "traceback": [
      "\u001b[1;31m---------------------------------------------------------------------------\u001b[0m",
      "\u001b[1;31mValueError\u001b[0m                                Traceback (most recent call last)",
      "\u001b[1;32m<ipython-input-36-a14f7604219f>\u001b[0m in \u001b[0;36m<module>\u001b[1;34m\u001b[0m\n\u001b[1;32m----> 1\u001b[1;33m \u001b[0mnp\u001b[0m\u001b[1;33m.\u001b[0m\u001b[0mequal\u001b[0m\u001b[1;33m(\u001b[0m\u001b[0mnp\u001b[0m\u001b[1;33m.\u001b[0m\u001b[0mzeros\u001b[0m\u001b[1;33m(\u001b[0m\u001b[1;36m2\u001b[0m\u001b[1;33m)\u001b[0m\u001b[1;33m)\u001b[0m\u001b[1;33m\u001b[0m\u001b[1;33m\u001b[0m\u001b[0m\n\u001b[0m",
      "\u001b[1;31mValueError\u001b[0m: invalid number of arguments"
     ]
    }
   ],
   "source": []
  }
 ],
 "metadata": {
  "kernelspec": {
   "display_name": "Python 3",
   "language": "python",
   "name": "python3"
  },
  "language_info": {
   "codemirror_mode": {
    "name": "ipython",
    "version": 3
   },
   "file_extension": ".py",
   "mimetype": "text/x-python",
   "name": "python",
   "nbconvert_exporter": "python",
   "pygments_lexer": "ipython3",
   "version": "3.7.6"
  }
 },
 "nbformat": 4,
 "nbformat_minor": 4
}
