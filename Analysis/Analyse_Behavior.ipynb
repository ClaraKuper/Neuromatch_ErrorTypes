{
 "cells": [
  {
   "cell_type": "code",
   "execution_count": 1,
   "metadata": {},
   "outputs": [],
   "source": [
    "# Visualize behaviour in the task\n",
    "# Summarize Reaction times and Accuracy across subjects\n",
    "\n",
    "# Clara Kuper July 2020\n",
    "\n",
    "import numpy as np\n",
    "import matplotlib.pyplot as plt\n",
    "import os\n",
    "\n",
    "\n",
    "# Set up your working directory\n",
    "\n",
    "ANALYSIS_DIR = os.getcwd()\n",
    "BEHAV_NAME = \"..\\\\Data\\\\behavior\\\\\"\n",
    "\n",
    "try:\n",
    "    BEHAV_DIR =  os.chdir(BEHAV_NAME)\n",
    "    \n",
    "except FileNotFoundError:\n",
    "    os.mkdir(BEHAV_NAME)\n",
    "    BEHAV_DIR = os.chdir(BEHAV_NAME)"
   ]
  },
  {
   "cell_type": "code",
   "execution_count": 2,
   "metadata": {},
   "outputs": [
    {
     "data": {
      "text/plain": [
       "'C:\\\\Users\\\\ClaraQ\\\\Documents\\\\Projects\\\\Neuromatch_ErrorTypes\\\\Data\\\\behavior'"
      ]
     },
     "execution_count": 2,
     "metadata": {},
     "output_type": "execute_result"
    }
   ],
   "source": [
    "os.getcwd()"
   ]
  },
  {
   "cell_type": "code",
   "execution_count": null,
   "metadata": {},
   "outputs": [],
   "source": []
  }
 ],
 "metadata": {
  "kernelspec": {
   "display_name": "Python 3",
   "language": "python",
   "name": "python3"
  },
  "language_info": {
   "codemirror_mode": {
    "name": "ipython",
    "version": 3
   },
   "file_extension": ".py",
   "mimetype": "text/x-python",
   "name": "python",
   "nbconvert_exporter": "python",
   "pygments_lexer": "ipython3",
   "version": "3.7.6"
  }
 },
 "nbformat": 4,
 "nbformat_minor": 4
}
