{
 "cells": [
  {
   "cell_type": "code",
   "execution_count": null,
   "metadata": {},
   "outputs": [],
   "source": [
    "def find_outliers(beta, threshold=2):\n",
    "    \"\"\" Checks for each region which subjects have outlying values (defined as exceeding a given threshold in standard deviations) \n",
    "    Args:\n",
    "        beta: R*Sub array of betas averaged (?) across runs\n",
    "        threshold: standard deviation limit indicating whether a participant is an outlier\n",
    "    Return\n",
    "        Boobeta: R*Sub array 0==outlier, 1==normal\n",
    "    \"\"\"\n",
    "    Boobeta=np.zeros_like(beta)\n",
    "    print(Boobeta.shape)\n",
    "    for R in range(np.size(beta, axis=0)):\n",
    "        Boobeta[R,:] = abs(beta[R,:] - np.mean(beta[R,:])) < (threshold * np.std(beta[R,:]))\n",
    "    return Boobeta"
   ]
  }
 ],
 "metadata": {
  "kernelspec": {
   "display_name": "Python 3",
   "language": "python",
   "name": "python3"
  },
  "language_info": {
   "codemirror_mode": {
    "name": "ipython",
    "version": 3
   },
   "file_extension": ".py",
   "mimetype": "text/x-python",
   "name": "python",
   "nbconvert_exporter": "python",
   "pygments_lexer": "ipython3",
   "version": "3.7.6"
  }
 },
 "nbformat": 4,
 "nbformat_minor": 4
}
