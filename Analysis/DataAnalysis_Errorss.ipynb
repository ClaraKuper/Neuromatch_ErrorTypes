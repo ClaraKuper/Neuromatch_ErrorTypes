{
 "cells": [
  {
   "cell_type": "markdown",
   "metadata": {},
   "source": [
    "# Human Connectome Project (HCP) Dataset loader\n",
    "\n",
    "The HCP dataset comprises resting-state and task-based fMRI from a large sample of human subjects. The NMA-curated dataset includes time series data that has been preprocessed and spatially-downsampled by aggregating within 360 regions of interest."
   ]
  },
  {
   "cell_type": "code",
   "execution_count": 1,
   "metadata": {},
   "outputs": [],
   "source": [
    "import os\n",
    "import numpy as np\n",
    "import matplotlib.pyplot as plt\n",
    "\n"
   ]
  },
  {
   "cell_type": "code",
   "execution_count": 2,
   "metadata": {},
   "outputs": [],
   "source": [
    "#@title Figure settings\n",
    "%matplotlib inline\n",
    "%config InlineBackend.figure_format = 'retina'\n",
    "plt.style.use(\"https://raw.githubusercontent.com/NeuromatchAcademy/course-content/master/nma.mplstyle\")"
   ]
  },
  {
   "cell_type": "markdown",
   "metadata": {},
   "source": [
    "**Basic parameters**"
   ]
  },
  {
   "cell_type": "code",
   "execution_count": 6,
   "metadata": {},
   "outputs": [],
   "source": [
    "HCP_DIR =  \"C:/Users/ClaraQ/Documents/Projects/Neuromatch_ErrorTypes/Data/hcp_task/\"\n",
    "if not os.path.isdir(HCP_DIR):\n",
    "  os.mkdir(HCP_DIR)\n",
    "\n",
    "# The data shared for NMA projects is a subset of the full HCP dataset\n",
    "N_SUBJECTS = 339\n",
    "\n",
    "# The data have already been aggregated into ROIs from the Glasesr parcellation\n",
    "N_PARCELS = 360\n",
    "\n",
    "# The acquisition parameters for all tasks were identical\n",
    "TR = 0.72  # Time resolution, in sec\n",
    "\n",
    "# The parcels are matched across hemispheres with the same order\n",
    "HEMIS = [\"Right\", \"Left\"]\n",
    "\n",
    "# Each experiment was repeated multiple times in each subject\n",
    "N_RUNS_REST = 4\n",
    "N_RUNS_TASK = 2\n",
    "\n",
    "# Time series data are organized by experiment, with each experiment\n",
    "# having an LR and RL (phase-encode direction) acquistion\n",
    "BOLD_NAMES = [\n",
    "  \"rfMRI_REST1_LR\", \"rfMRI_REST1_RL\",\n",
    "  \"rfMRI_REST2_LR\", \"rfMRI_REST2_RL\",\n",
    "  \"tfMRI_MOTOR_RL\", \"tfMRI_MOTOR_LR\",\n",
    "  \"tfMRI_WM_RL\", \"tfMRI_WM_LR\",\n",
    "  \"tfMRI_EMOTION_RL\", \"tfMRI_EMOTION_LR\",\n",
    "  \"tfMRI_GAMBLING_RL\", \"tfMRI_GAMBLING_LR\",\n",
    "  \"tfMRI_LANGUAGE_RL\", \"tfMRI_LANGUAGE_LR\",\n",
    "  \"tfMRI_RELATIONAL_RL\", \"tfMRI_RELATIONAL_LR\",\n",
    "  \"tfMRI_SOCIAL_RL\", \"tfMRI_SOCIAL_LR\"\n",
    "]\n",
    "\n",
    "# You may want to limit the subjects used during code development.\n",
    "# This will use all subjects:\n",
    "subjects = range(N_SUBJECTS)"
   ]
  },
  {
   "cell_type": "markdown",
   "metadata": {},
   "source": [
    "# Loading region information\n",
    "Downloading either dataset will create the regions.npy file, which contains the region name and network assignment for each parcel."
   ]
  },
  {
   "cell_type": "code",
   "execution_count": 7,
   "metadata": {},
   "outputs": [],
   "source": [
    "regions = np.load(f\"{HCP_DIR}regions.npy\").T\n",
    "region_info = dict(\n",
    "    name=regions[0].tolist(),\n",
    "    network=regions[1],\n",
    "    myelin=regions[2].astype(np.float),\n",
    ")"
   ]
  },
  {
   "cell_type": "markdown",
   "metadata": {},
   "source": [
    "# Data load \n",
    "Helper function"
   ]
  },
  {
   "cell_type": "code",
   "execution_count": 21,
   "metadata": {},
   "outputs": [],
   "source": [
    "def get_image_ids(name):\n",
    "  \"\"\"Get the 1-based image indices for runs in a given experiment.\n",
    "\n",
    "    Args:\n",
    "      name (str) : Name of experiment (\"rest\" or name of task) to load\n",
    "    Returns:\n",
    "      run_ids (list of int) : Numeric ID for experiment image files\n",
    "\n",
    "  \"\"\"\n",
    "  run_ids = [\n",
    "    i for i, code in enumerate(BOLD_NAMES, 1) if name.upper() in code]\n",
    "  if not run_ids:\n",
    "    raise ValueError(f\"Found no data for '{name}''\")\n",
    "  return run_ids\n",
    "\n",
    "def load_timeseries(subject, name, runs=None, concat=True, remove_mean=True):\n",
    "  \"\"\"Load timeseries data for a single subject.\n",
    "  \n",
    "  Args:\n",
    "    subject (int): 0-based subject ID to load\n",
    "    name (str) : Name of experiment (\"rest\" or name of task) to load\n",
    "    run (None or int or list of ints): 0-based run(s) of the task to load,\n",
    "      or None to load all runs.\n",
    "    concat (bool) : If True, concatenate multiple runs in time\n",
    "    remove_mean (bool) : If True, subtract the parcel-wise mean\n",
    "\n",
    "  Returns\n",
    "    ts (n_parcel x n_tp array): Array of BOLD data values\n",
    "\n",
    "  \"\"\"\n",
    "  # Get the list relative 0-based index of runs to use\n",
    "  if runs is None:\n",
    "    runs = range(N_RUNS_REST) if name == \"rest\" else range(N_RUNS_TASK)\n",
    "  elif isinstance(runs, int):\n",
    "    runs = [runs]\n",
    "\n",
    "  # Get the first (1-based) run id for this experiment \n",
    "  offset = get_image_ids(name)[0]\n",
    "\n",
    "  # Load each run's data\n",
    "  bold_data = [\n",
    "      load_single_timeseries(subject, offset + run, remove_mean) for run in runs\n",
    "  ]\n",
    "\n",
    "  # Optionally concatenate in time\n",
    "  if concat:\n",
    "    bold_data = np.concatenate(bold_data, axis=-1)\n",
    "\n",
    "  return bold_data\n",
    "\n",
    "\n",
    "def load_single_timeseries(subject, bold_run, remove_mean=True):\n",
    "  \"\"\"Load timeseries data for a single subject and single run.\n",
    "  \n",
    "  Args:\n",
    "    subject (int): 0-based subject ID to load\n",
    "    bold_run (int): 1-based run index, across all tasks\n",
    "    remove_mean (bool): If True, subtract the parcel-wise mean\n",
    "\n",
    "  Returns\n",
    "    ts (n_parcel x n_timepoint array): Array of BOLD data values\n",
    "\n",
    "  \"\"\"\n",
    "  bold_path = f\"{HCP_DIR}subjects/{subject}/timeseries\"\n",
    "  bold_file = f\"bold{bold_run}_Atlas_MSMAll_Glasser360Cortical.npy\"\n",
    "  ts = np.load(f\"{bold_path}/{bold_file}\")\n",
    "  if remove_mean:\n",
    "    ts -= ts.mean(axis=1, keepdims=True)\n",
    "  return ts\n",
    "\n",
    "def load_evs(subject, name, condition):\n",
    "  \"\"\"Load EV (explanatory variable) data for one task condition.\n",
    "\n",
    "  Args:\n",
    "    subject (int): 0-based subject ID to load\n",
    "    name (str) : Name of task\n",
    "    condition (str) : Name of condition\n",
    "\n",
    "  Returns\n",
    "    evs (list of dicts): A dictionary with the onset, duration, and amplitude\n",
    "      of the condition for each run.\n",
    "\n",
    "  \"\"\"\n",
    "  evs = []\n",
    "  for id in get_image_ids(name):\n",
    "    task_key = BOLD_NAMES[id-1]\n",
    "    ev_file = f\"{HCP_DIR}subjects/{subject}/EVs/{task_key}/{condition}.txt\"\n",
    "    ev = dict(zip([\"onset\", \"duration\", \"amplitude\"], np.genfromtxt(ev_file).T))\n",
    "    evs.append(ev)\n",
    "  return evs\n",
    "\n",
    "\n",
    "def test_orthogonality(design_matrix, warn = False):\n",
    "    \n",
    "    \"\"\"\n",
    "    takes a design martix and computed the correlation between conditions\n",
    "    \n",
    "    input:\n",
    "    design_matrix = m x n np.array with condition columns and time line as a row\n",
    "    \n",
    "    output:\n",
    "    orth_mat = np.array of size n x n indicating the orthogonality of each condition to each other condition\n",
    "    \"\"\"\n",
    "    \n",
    "    # initialize the output matrix\n",
    "    design_dim = design_matrix.shape\n",
    "    orth_mat = np.zeros((design_dim[1], design_dim[1]))\n",
    "    \n",
    "    # two vectors are orthogonal, if their dot product is zero\n",
    "    # loop through all conditions\n",
    "    for condition in range(0,design_dim[1]):\n",
    "        cond_1 = design_matrix[:,condition]\n",
    "        # compare to all conditions\n",
    "        for compare in range(0, design_dim[1]):\n",
    "            cond_2 = design_matrix[:,compare]\n",
    "            \n",
    "            orth_mat[condition,compare] = cond_1@cond_2\n",
    "            \n",
    "    # throw a warning for conditions that are not orthogonal\n",
    "    if warn:\n",
    "        warnings = np.where(orth_mat>0)\n",
    "        for pos in range(0,len(warnings[0])):\n",
    "            check_pos = np.zeros(len(warnings))\n",
    "\n",
    "            for dim in range(0,len(warnings)):\n",
    "                check_pos[dim] = warnings[dim][pos]\n",
    "\n",
    "            print(check_pos)\n",
    "            if not (check_pos[0]== check_pos[1]):\n",
    "                print('Watch out, the matrix is not orthogonal for conditons {}'.format(check_pos))\n",
    "    \n",
    "    return orth_mat"
   ]
  },
  {
   "cell_type": "code",
   "execution_count": 9,
   "metadata": {},
   "outputs": [],
   "source": [
    "timeseries_task = []\n",
    "for subject in subjects:\n",
    "  timeseries_task.append(load_timeseries(subject, \"motor\", concat=False))"
   ]
  },
  {
   "cell_type": "code",
   "execution_count": 10,
   "metadata": {},
   "outputs": [],
   "source": [
    "def condition_frames(run_evs, skip=0):\n",
    "    \"\"\"Identify timepoints corresponding to a given condition in each run.\n",
    "    Args:\n",
    "        run_evs (list of dicts) : Onset and duration of the event, per run\n",
    "        skip (int) : Ignore this many frames at the start of each trial, to account\n",
    "        for hemodynamic lag\n",
    "    \n",
    "    Returns:\n",
    "        frames_list (list of 1D arrays): Flat arrays of frame indices, per run\n",
    "        \n",
    "    \"\"\"\n",
    "    frames_list = []\n",
    "    for ev in run_evs:\n",
    "        try:\n",
    "            # Determine when trial starts, rounded down\n",
    "            start = np.floor(ev[\"onset\"] / (TR/10)).astype(int)\n",
    "            \n",
    "            #Use trial duration to determine how many frames to include for trial\n",
    "            duration = np.ceil(ev[\"duration\"] / (TR/10)).astype(int)\n",
    "            \n",
    "            # Take the range of frames that correspond to this specific trial\n",
    "            if type(start) == np.ndarray:\n",
    "                frames = [s + np.arange(skip, d) for s, d in zip(start, duration)]\n",
    "            else:\n",
    "                frames = [start+np.arange(skip,duration)]\n",
    "            \n",
    "            frames_list.append(np.concatenate(frames))\n",
    "            #print('ev-file is not empty')\n",
    "        except KeyError:\n",
    "            print('ev-file is empty')\n",
    "\n",
    "    return frames_list"
   ]
  },
  {
   "cell_type": "code",
   "execution_count": 11,
   "metadata": {},
   "outputs": [],
   "source": [
    "\n",
    "def selective_average(timeseries_data, ev, skip=0):\n",
    "  \"\"\"Take the temporal mean across frames for a given condition.\n",
    "\n",
    "  Args:\n",
    "    timeseries_data (array or list of arrays): n_parcel x n_tp arrays\n",
    "    ev (dict or list of dicts): Condition timing information\n",
    "    skip (int) : Ignore this many frames at the start of each trial, to account\n",
    "      for hemodynamic lag\n",
    "\n",
    "  Returns:\n",
    "    avg_data (1D array): Data averagted across selected image frames based\n",
    "    on condition timing\n",
    "\n",
    "  \"\"\"\n",
    "  # Ensure that we have lists of the same length\n",
    "  if not isinstance(timeseries_data, list):\n",
    "    timeseries_data = [timeseries_data]\n",
    "  if not isinstance(ev, list):\n",
    "    ev = [ev]\n",
    "  if len(timeseries_data) != len(ev):\n",
    "    raise ValueError(\"Length of `timeseries_data` and `ev` must match.\")\n",
    "\n",
    "  # Identify the indices of relevant frames\n",
    "  frames = condition_frames(ev)\n",
    "\n",
    "  # Select the frames from each image\n",
    "  selected_data = []\n",
    "  for run_data, run_frames in zip(timeseries_data, frames):\n",
    "    selected_data.append(run_data[:, run_frames])\n",
    "\n",
    "  # Take the average in each parcel\n",
    "  avg_data = np.concatenate(selected_data, axis=-1).mean(axis=-1)\n",
    "\n",
    "  return avg_data"
   ]
  },
  {
   "cell_type": "code",
   "execution_count": 12,
   "metadata": {
    "scrolled": false
   },
   "outputs": [
    {
     "name": "stdout",
     "output_type": "stream",
     "text": [
      "0\n",
      "[array([ 218,  219,  220,  221,  222,  223,  224,  225,  226,  227,  228,\n",
      "        229,  230,  231,  232,  233,  234,  235,  236,  237,  238,  239,\n",
      "        240,  241,  242,  243,  244,  245,  246,  247,  248,  249,  250,\n",
      "        251,  252,  431,  432,  433,  434,  435,  436,  437,  438,  439,\n",
      "        440,  441,  442,  443,  444,  445,  446,  447,  448,  449,  450,\n",
      "        451,  452,  453,  454,  455,  456,  457,  458,  459,  460,  461,\n",
      "        462,  463,  464,  465, 1315, 1316, 1317, 1318, 1319, 1320, 1321,\n",
      "       1322, 1323, 1324, 1325, 1326, 1327, 1328, 1329, 1330, 1331, 1332,\n",
      "       1333, 1334, 1335, 1336, 1337, 1338, 1339, 1340, 1341, 1342, 1343,\n",
      "       1344, 1345, 1346, 1347, 1348, 1349])]\n",
      "ev-file is empty\n",
      "[]\n",
      "(4050, 2) <class 'numpy.ndarray'>\n"
     ]
    }
   ],
   "source": [
    "task = \"wm_rl\"\n",
    "conditions = [\"2bk_err\",'2bk_nlr']  # Run a substraction analysis between two conditions\n",
    "import warnings\n",
    "\n",
    "#ignore by message\n",
    "warnings.filterwarnings(\"ignore\", message=\"genfromtxt\")\n",
    "#contrast = []\n",
    "evs=[]\n",
    "frames_all=[]\n",
    "subjects = [0]\n",
    "for subject in subjects:\n",
    "    print(subject)\n",
    "    #initialize design_matrix:\n",
    "    ts = load_single_timeseries(subject,get_image_ids(task)[0])\n",
    "    design_matrix = np.zeros((ts.shape[1]*10,len(conditions)))\n",
    "    for n, cond in enumerate(conditions):\n",
    "        frames= []\n",
    "        ev = [load_evs(subject,task,cond)]\n",
    "        frames = condition_frames(ev[0],skip=0)\n",
    "        design_matrix[frames,n] = 1\n",
    "        print(frames)\n",
    "    print(design_matrix.shape, type(design_matrix))\n",
    "     #print(ev)\n",
    "\n",
    "    #evs.append(ev)\n",
    "    #frames_all.append(frames)\n",
    "    # Store the region-wise difference\n",
    "    #contrast.append(avgs[0] - avgs[1])\n",
    "\n",
    "#group_contrast = np.mean(contrast, axis=0)"
   ]
  },
  {
   "cell_type": "code",
   "execution_count": 22,
   "metadata": {},
   "outputs": [
    {
     "data": {
      "text/plain": [
       "array([[105.,   0.],\n",
       "       [  0.,   0.]])"
      ]
     },
     "execution_count": 22,
     "metadata": {},
     "output_type": "execute_result"
    }
   ],
   "source": [
    "test_orthogonality(design_matrix)"
   ]
  },
  {
   "cell_type": "code",
   "execution_count": 14,
   "metadata": {},
   "outputs": [
    {
     "name": "stderr",
     "output_type": "stream",
     "text": [
      "C:\\Users\\ClaraQ\\anaconda3\\lib\\site-packages\\ipykernel_launcher.py:1: FutureWarning: \n",
      "\n",
      " | Starting with Nilearn 0.7.0, all Nistats functionality has been incorporated into Nilearn's stats & reporting modules.\n",
      " | Nistats package will no longer be updated or maintained.\n",
      "\n",
      "  \"\"\"Entry point for launching an IPython kernel.\n"
     ]
    },
    {
     "data": {
      "image/png": "[encoded data removed]",
      "text/plain": [
       "<Figure size 792x288 with 1 Axes>"
      ]
     },
     "metadata": {
      "image/png": {
       "height": 280,
       "width": 784
      },
      "needs_background": "light"
     },
     "output_type": "display_data"
    },
    {
     "name": "stdout",
     "output_type": "stream",
     "text": [
      "(444,)\n"
     ]
    }
   ],
   "source": [
    "import nistats\n",
    "from nistats.hemodynamic_models import glover_hrf\n",
    "canon_hrf = glover_hrf(tr=TR, oversampling=10)\n",
    "\n",
    "import matplotlib.pyplot as plt\n",
    "%matplotlib inline\n",
    "\n",
    "# Define timepoints corresponding to HRF\n",
    "t_hrf = np.linspace(0, np.floor(32/TR).astype(int), np.round(32/TR * 10).astype(int), endpoint=False)\n",
    "\n",
    "plt.figure(figsize=(11, 4))\n",
    "plt.plot(t_hrf, canon_hrf)\n",
    "plt.grid()\n",
    "plt.ylabel('Amplitude (A.U.)', fontsize=15)\n",
    "plt.xlabel('Time (seconds)', fontsize=15)\n",
    "plt.title('Canonical (\"Glover\"\") HRF', fontsize=20)\n",
    "plt.show()\n",
    "print(canon_hrf.shape)\n",
    "\n"
   ]
  },
  {
   "cell_type": "code",
   "execution_count": 15,
   "metadata": {},
   "outputs": [
    {
     "data": {
      "text/plain": [
       "array([0., 0., 0., ..., 0., 0., 0.])"
      ]
     },
     "execution_count": 15,
     "metadata": {},
     "output_type": "execute_result"
    }
   ],
   "source": [
    "np.convolve(design_matrix[:len(design_matrix[1])-len(canon_hrf),1],canon_hrf)\n",
    "               "
   ]
  },
  {
   "cell_type": "code",
   "execution_count": 28,
   "metadata": {
    "scrolled": true
   },
   "outputs": [
    {
     "name": "stdout",
     "output_type": "stream",
     "text": [
      "(4050, 2)\n",
      "(4050, 2)\n",
      "0\n"
     ]
    },
    {
     "ename": "ValueError",
     "evalue": "could not broadcast input array from shape (444) into shape (4050)",
     "output_type": "error",
     "traceback": [
      "\u001b[1;31m---------------------------------------------------------------------------\u001b[0m",
      "\u001b[1;31mValueError\u001b[0m                                Traceback (most recent call last)",
      "\u001b[1;32m<ipython-input-28-9ee2bb3f8d2e>\u001b[0m in \u001b[0;36m<module>\u001b[1;34m\u001b[0m\n\u001b[0;32m     27\u001b[0m \u001b[0mend\u001b[0m\u001b[1;33m\u001b[0m\u001b[1;33m\u001b[0m\u001b[0m\n\u001b[0;32m     28\u001b[0m \"\"\"\n\u001b[1;32m---> 29\u001b[1;33m \u001b[0mdesign_matrix_conv\u001b[0m \u001b[1;33m=\u001b[0m \u001b[0mhrf_convo\u001b[0m\u001b[1;33m(\u001b[0m\u001b[0mdesign_matrix\u001b[0m\u001b[1;33m,\u001b[0m \u001b[0mcanon_hrf\u001b[0m\u001b[1;33m)\u001b[0m\u001b[1;33m\u001b[0m\u001b[1;33m\u001b[0m\u001b[0m\n\u001b[0m\u001b[0;32m     30\u001b[0m \u001b[1;33m\u001b[0m\u001b[0m\n\u001b[0;32m     31\u001b[0m \u001b[0mplt\u001b[0m\u001b[1;33m.\u001b[0m\u001b[0mplot\u001b[0m\u001b[1;33m(\u001b[0m\u001b[0mdesign_matrix_conv\u001b[0m\u001b[1;33m)\u001b[0m\u001b[1;33m\u001b[0m\u001b[1;33m\u001b[0m\u001b[0m\n",
      "\u001b[1;32m<ipython-input-28-9ee2bb3f8d2e>\u001b[0m in \u001b[0;36mhrf_convo\u001b[1;34m(design_matrix, bf)\u001b[0m\n\u001b[0;32m     17\u001b[0m     \u001b[1;32mfor\u001b[0m \u001b[0mC\u001b[0m \u001b[1;32min\u001b[0m \u001b[0mrange\u001b[0m\u001b[1;33m(\u001b[0m\u001b[0mlen\u001b[0m\u001b[1;33m(\u001b[0m\u001b[0mdesign_matrix\u001b[0m\u001b[1;33m[\u001b[0m\u001b[1;36m1\u001b[0m\u001b[1;33m]\u001b[0m\u001b[1;33m)\u001b[0m\u001b[1;33m)\u001b[0m\u001b[1;33m:\u001b[0m\u001b[1;33m\u001b[0m\u001b[1;33m\u001b[0m\u001b[0m\n\u001b[0;32m     18\u001b[0m         \u001b[0mprint\u001b[0m\u001b[1;33m(\u001b[0m\u001b[0mC\u001b[0m\u001b[1;33m)\u001b[0m\u001b[1;33m\u001b[0m\u001b[1;33m\u001b[0m\u001b[0m\n\u001b[1;32m---> 19\u001b[1;33m         \u001b[0mdesign_matrix_conv\u001b[0m\u001b[1;33m[\u001b[0m\u001b[1;33m:\u001b[0m\u001b[1;33m,\u001b[0m\u001b[0mC\u001b[0m\u001b[1;33m]\u001b[0m\u001b[1;33m=\u001b[0m\u001b[0mnp\u001b[0m\u001b[1;33m.\u001b[0m\u001b[0mconvolve\u001b[0m\u001b[1;33m(\u001b[0m\u001b[0mdesign_matrix_pad\u001b[0m\u001b[1;33m[\u001b[0m\u001b[0mlen\u001b[0m\u001b[1;33m(\u001b[0m\u001b[0mdesign_matrix_pad\u001b[0m\u001b[1;33m[\u001b[0m\u001b[1;36m1\u001b[0m\u001b[1;33m]\u001b[0m\u001b[1;33m)\u001b[0m\u001b[1;33m-\u001b[0m\u001b[0mlen\u001b[0m\u001b[1;33m(\u001b[0m\u001b[0mbf\u001b[0m\u001b[1;33m)\u001b[0m\u001b[1;33m,\u001b[0m\u001b[0mC\u001b[0m\u001b[1;33m]\u001b[0m\u001b[1;33m,\u001b[0m\u001b[0mbf\u001b[0m\u001b[1;33m)\u001b[0m\u001b[1;33m\u001b[0m\u001b[1;33m\u001b[0m\u001b[0m\n\u001b[0m\u001b[0;32m     20\u001b[0m \u001b[1;33m\u001b[0m\u001b[0m\n\u001b[0;32m     21\u001b[0m     \u001b[1;32mreturn\u001b[0m \u001b[0mdesign_matrix_conv\u001b[0m\u001b[1;33m\u001b[0m\u001b[1;33m\u001b[0m\u001b[0m\n",
      "\u001b[1;31mValueError\u001b[0m: could not broadcast input array from shape (444) into shape (4050)"
     ]
    }
   ],
   "source": [
    "def hrf_convo(design_matrix,bf):\n",
    "    \"\"\"\n",
    "    Takes designmatrix upsampled to TR/TReso and convolves it with canonical HRF\n",
    "        Args\n",
    "            design_matrix: C * Vol*Treso ndarray; indicates closest Tr/TReso timepoint where an event started for specific regressor\n",
    "            bf: basis function - will usually be the hrf; 1D array \n",
    "        Returns\n",
    "            design_matrix_conv: C*Vol array with predicted BOLD response\n",
    "    \"\"\"\n",
    "    #print(len(bf))\n",
    "    design_matrix_pad=np.pad(design_matrix,((0,len(bf)),(0, 0)))\n",
    "    #print(design_matrix_pad.shape)\n",
    "    design_matrix_conv=np.empty(design_matrix.shape)\n",
    "    print(design_matrix_conv.shape)\n",
    "    print(design_matrix.shape)\n",
    "    #print(len(design_matrix[1]))\n",
    "    for C in range(len(design_matrix[1])):\n",
    "        print(C)\n",
    "        design_matrix_conv[:,C]=np.convolve(design_matrix_pad[:,:,len(design_matrix_pad[1])-len(bf),C],bf)\n",
    "        \n",
    "    return design_matrix_conv\n",
    "\"\"\" Matlab Code below        \n",
    "C = zeros(size(X));\n",
    "for i = 1:size(X,2) %does something for each specified structure\n",
    "    next = conv(X(:,i)', hrf, 'full');\n",
    "    C(:,i) = next(1:end-(length(hrf)-1));\n",
    "end\n",
    "\"\"\"\n",
    "design_matrix_conv = hrf_convo(design_matrix, canon_hrf)\n",
    "\n",
    "plt.plot(design_matrix_conv)"
   ]
  },
  {
   "cell_type": "code",
   "execution_count": 23,
   "metadata": {},
   "outputs": [
    {
     "ename": "AttributeError",
     "evalue": "'numpy.ndarray' object has no attribute 'keys'",
     "output_type": "error",
     "traceback": [
      "\u001b[1;31m---------------------------------------------------------------------------\u001b[0m",
      "\u001b[1;31mAttributeError\u001b[0m                            Traceback (most recent call last)",
      "\u001b[1;32m<ipython-input-23-021ccd16026c>\u001b[0m in \u001b[0;36m<module>\u001b[1;34m\u001b[0m\n\u001b[0;32m      1\u001b[0m \u001b[1;32mfrom\u001b[0m \u001b[0mnistats\u001b[0m\u001b[1;33m.\u001b[0m\u001b[0mreporting\u001b[0m \u001b[1;32mimport\u001b[0m \u001b[0mplot_design_matrix\u001b[0m\u001b[1;33m\u001b[0m\u001b[1;33m\u001b[0m\u001b[0m\n\u001b[1;32m----> 2\u001b[1;33m \u001b[0mplot_design_matrix\u001b[0m\u001b[1;33m(\u001b[0m\u001b[0mdesign_matrix\u001b[0m\u001b[1;33m[\u001b[0m\u001b[1;36m0\u001b[0m\u001b[1;33m]\u001b[0m\u001b[1;33m)\u001b[0m\u001b[1;33m\u001b[0m\u001b[1;33m\u001b[0m\u001b[0m\n\u001b[0m",
      "\u001b[1;32m~\\anaconda3\\lib\\site-packages\\nistats\\reporting\\_plot_matrices.py\u001b[0m in \u001b[0;36mplot_design_matrix\u001b[1;34m(design_matrix, rescale, ax, output_file)\u001b[0m\n\u001b[0;32m     43\u001b[0m \u001b[1;33m\u001b[0m\u001b[0m\n\u001b[0;32m     44\u001b[0m     \u001b[1;31m# normalize the values per column for better visualization\u001b[0m\u001b[1;33m\u001b[0m\u001b[1;33m\u001b[0m\u001b[1;33m\u001b[0m\u001b[0m\n\u001b[1;32m---> 45\u001b[1;33m     \u001b[0m_\u001b[0m\u001b[1;33m,\u001b[0m \u001b[0mX\u001b[0m\u001b[1;33m,\u001b[0m \u001b[0mnames\u001b[0m \u001b[1;33m=\u001b[0m \u001b[0mcheck_design_matrix\u001b[0m\u001b[1;33m(\u001b[0m\u001b[0mdesign_matrix\u001b[0m\u001b[1;33m)\u001b[0m\u001b[1;33m\u001b[0m\u001b[1;33m\u001b[0m\u001b[0m\n\u001b[0m\u001b[0;32m     46\u001b[0m     \u001b[1;32mif\u001b[0m \u001b[0mrescale\u001b[0m\u001b[1;33m:\u001b[0m\u001b[1;33m\u001b[0m\u001b[1;33m\u001b[0m\u001b[0m\n\u001b[0;32m     47\u001b[0m         X = X / np.maximum(1.e-12, np.sqrt(\n",
      "\u001b[1;32m~\\anaconda3\\lib\\site-packages\\nistats\\design_matrix.py\u001b[0m in \u001b[0;36mcheck_design_matrix\u001b[1;34m(design_matrix)\u001b[0m\n\u001b[0;32m    401\u001b[0m         \u001b[0mPer\u001b[0m\u001b[1;33m-\u001b[0m\u001b[0mevent\u001b[0m \u001b[0monset\u001b[0m \u001b[0mtime\u001b[0m \u001b[1;33m(\u001b[0m\u001b[1;32min\u001b[0m \u001b[0mseconds\u001b[0m\u001b[1;33m)\u001b[0m\u001b[1;33m\u001b[0m\u001b[1;33m\u001b[0m\u001b[0m\n\u001b[0;32m    402\u001b[0m     \"\"\"\n\u001b[1;32m--> 403\u001b[1;33m     \u001b[0mnames\u001b[0m \u001b[1;33m=\u001b[0m \u001b[1;33m[\u001b[0m\u001b[0mname\u001b[0m \u001b[1;32mfor\u001b[0m \u001b[0mname\u001b[0m \u001b[1;32min\u001b[0m \u001b[0mdesign_matrix\u001b[0m\u001b[1;33m.\u001b[0m\u001b[0mkeys\u001b[0m\u001b[1;33m(\u001b[0m\u001b[1;33m)\u001b[0m\u001b[1;33m]\u001b[0m\u001b[1;33m\u001b[0m\u001b[1;33m\u001b[0m\u001b[0m\n\u001b[0m\u001b[0;32m    404\u001b[0m     \u001b[0mframe_times\u001b[0m \u001b[1;33m=\u001b[0m \u001b[0mdesign_matrix\u001b[0m\u001b[1;33m.\u001b[0m\u001b[0mindex\u001b[0m\u001b[1;33m\u001b[0m\u001b[1;33m\u001b[0m\u001b[0m\n\u001b[0;32m    405\u001b[0m     \u001b[0mmatrix\u001b[0m \u001b[1;33m=\u001b[0m \u001b[0mdesign_matrix\u001b[0m\u001b[1;33m.\u001b[0m\u001b[0mvalues\u001b[0m\u001b[1;33m\u001b[0m\u001b[1;33m\u001b[0m\u001b[0m\n",
      "\u001b[1;31mAttributeError\u001b[0m: 'numpy.ndarray' object has no attribute 'keys'"
     ]
    }
   ],
   "source": [
    "from nistats.reporting import plot_design_matrix\n",
    "plot_design_matrix(design_matrix[0])\n"
   ]
  },
  {
   "cell_type": "code",
   "execution_count": 25,
   "metadata": {},
   "outputs": [
    {
     "ename": "NameError",
     "evalue": "name 'group_contrast' is not defined",
     "output_type": "error",
     "traceback": [
      "\u001b[1;31m---------------------------------------------------------------------------\u001b[0m",
      "\u001b[1;31mNameError\u001b[0m                                 Traceback (most recent call last)",
      "\u001b[1;32m<ipython-input-25-fe3701401e45>\u001b[0m in \u001b[0;36m<module>\u001b[1;34m\u001b[0m\n\u001b[1;32m----> 1\u001b[1;33m \u001b[0mhemi_contrasts\u001b[0m \u001b[1;33m=\u001b[0m \u001b[0mnp\u001b[0m\u001b[1;33m.\u001b[0m\u001b[0msplit\u001b[0m\u001b[1;33m(\u001b[0m\u001b[0mgroup_contrast\u001b[0m\u001b[1;33m,\u001b[0m \u001b[1;36m2\u001b[0m\u001b[1;33m)\u001b[0m\u001b[1;33m\u001b[0m\u001b[1;33m\u001b[0m\u001b[0m\n\u001b[0m\u001b[0;32m      2\u001b[0m \u001b[1;33m\u001b[0m\u001b[0m\n\u001b[0;32m      3\u001b[0m \u001b[1;32mfor\u001b[0m \u001b[0mi\u001b[0m\u001b[1;33m,\u001b[0m \u001b[0mhemi_contrast\u001b[0m \u001b[1;32min\u001b[0m \u001b[0menumerate\u001b[0m\u001b[1;33m(\u001b[0m\u001b[0mhemi_contrasts\u001b[0m\u001b[1;33m)\u001b[0m\u001b[1;33m:\u001b[0m\u001b[1;33m\u001b[0m\u001b[1;33m\u001b[0m\u001b[0m\n\u001b[0;32m      4\u001b[0m   \u001b[0mplt\u001b[0m\u001b[1;33m.\u001b[0m\u001b[0mplot\u001b[0m\u001b[1;33m(\u001b[0m\u001b[0mhemi_contrast\u001b[0m\u001b[1;33m,\u001b[0m \u001b[0mlabel\u001b[0m\u001b[1;33m=\u001b[0m\u001b[1;34mf\"{HEMIS[i]} hemisphere\"\u001b[0m\u001b[1;33m)\u001b[0m\u001b[1;33m\u001b[0m\u001b[1;33m\u001b[0m\u001b[0m\n\u001b[0;32m      5\u001b[0m \u001b[1;33m\u001b[0m\u001b[0m\n",
      "\u001b[1;31mNameError\u001b[0m: name 'group_contrast' is not defined"
     ]
    }
   ],
   "source": [
    "hemi_contrasts = np.split(group_contrast, 2)\n",
    "\n",
    "for i, hemi_contrast in enumerate(hemi_contrasts):\n",
    "  plt.plot(hemi_contrast, label=f\"{HEMIS[i]} hemisphere\")\n",
    "\n",
    "plt.title(\"Contrast of %s - %s\" % (conditions[0], conditions[1]))\n",
    "plt.xlabel(\"Region\")\n",
    "plt.ylabel('Contrast')\n",
    "plt.legend()\n",
    "plt.show()"
   ]
  },
  {
   "cell_type": "code",
   "execution_count": 21,
   "metadata": {},
   "outputs": [
    {
     "data": {
      "image/png": "[encoded data removed]",
      "text/plain": [
       "<Figure size 576x432 with 1 Axes>"
      ]
     },
     "metadata": {
      "image/png": {
       "height": 413,
       "width": 558
      },
      "needs_background": "light"
     },
     "output_type": "display_data"
    }
   ],
   "source": [
    "# Get unique network labels\n",
    "network_names = np.unique(region_info[\"network\"])\n",
    "\n",
    "hemi_networks = np.split(region_info[\"network\"], 2)\n",
    "hemi_contrasts = np.split(group_contrast, 2)\n",
    "\n",
    "# Get and plot mean contrast value per network, by hemisphere\n",
    "for hemi, hemi_network, hemi_contrast in zip(HEMIS, hemi_networks, hemi_contrasts):\n",
    "  network_vals = []\n",
    "  for network in network_names:\n",
    "    network_vals.append(hemi_contrast[hemi_network == network].mean())\n",
    "  plt.barh(network_names, network_vals, alpha=.5, label=f\"{hemi} hemi\")\n",
    "\n",
    "plt.axvline(0)\n",
    "plt.xlabel(\"Amplitude difference\")\n",
    "plt.title(f\"Contrast of {conditions[0]} - {conditions[1]}\")\n",
    "plt.legend()\n",
    "plt.show()"
   ]
  },
  {
   "cell_type": "markdown",
   "metadata": {},
   "source": [
    "Compute N of errors "
   ]
  },
  {
   "cell_type": "code",
   "execution_count": 59,
   "metadata": {},
   "outputs": [],
   "source": [
    "task = 'wm'\n",
    "import warnings\n",
    "\n",
    "#ignore by message\n",
    "warnings.filterwarnings(\"ignore\", message=\"genfromtxt\")\n",
    "conditions = ['0bk_err', '0bk_nlr', '2bk_err', '2bk_nlr']\n",
    "conditions2 = ['2bk_nlr']\n",
    "Totalerrorcount = np.zeros([len(subjects),len(conditions)])\n",
    "c = -1\n",
    "for condition in conditions:\n",
    "    c += 1\n",
    "    xx = 0\n",
    "    for subject in subjects:\n",
    "        '''Get number of erroneous trials'''\n",
    "        for id in get_image_ids(task):\n",
    "            task_key = BOLD_NAMES[id - 1]\n",
    "            ev_file = f\"{HCP_DIR}/subjects/{subject}/EVs/{task_key}/{condition}.txt\"\n",
    "            x = np.genfromtxt(ev_file)\n",
    "            n_errors = x.shape[0]\n",
    "            Totalerrorcount[[subject], [c]] = n_errors\n",
    "#np.savetxt('/Users/jonathanorschiedt/Documents/Python/Nerrors.txt',Totalerrorcount, fmt='%d', delimiter=',')"
   ]
  },
  {
   "cell_type": "code",
   "execution_count": 60,
   "metadata": {},
   "outputs": [
    {
     "data": {
      "text/plain": [
       "[]"
      ]
     },
     "execution_count": 60,
     "metadata": {},
     "output_type": "execute_result"
    }
   ],
   "source": [
    "evs"
   ]
  },
  {
   "cell_type": "code",
   "execution_count": 24,
   "metadata": {},
   "outputs": [
    {
     "data": {
      "text/plain": [
       "3510.0"
      ]
     },
     "execution_count": 24,
     "metadata": {},
     "output_type": "execute_result"
    }
   ],
   "source": [
    "np.sum(Totalerrorcount)"
   ]
  },
  {
   "cell_type": "code",
   "execution_count": 25,
   "metadata": {},
   "outputs": [
    {
     "data": {
      "text/plain": [
       "array([ 938.,  341., 1608.,  623.])"
      ]
     },
     "execution_count": 25,
     "metadata": {},
     "output_type": "execute_result"
    }
   ],
   "source": [
    "np.sum(Totalerrorcount, axis=0)"
   ]
  },
  {
   "cell_type": "code",
   "execution_count": null,
   "metadata": {},
   "outputs": [],
   "source": [
    "# Regressors:\n",
    "\n",
    "# Correct omission of response\n",
    "# Correct response (i.e. repetition of stimulus n trials back\n",
    "# Omission Error\n",
    "# Wrong response\n",
    "# Motion regressors\n",
    "# Run-number\n",
    "# Constant\n",
    "# Instructions\n",
    "# Stimulus Presentation Onset\n",
    "# Rest?"
   ]
  },
  {
   "cell_type": "code",
   "execution_count": null,
   "metadata": {},
   "outputs": [],
   "source": []
  }
 ],
 "metadata": {
  "kernelspec": {
   "display_name": "Python 3",
   "language": "python",
   "name": "python3"
  },
  "language_info": {
   "codemirror_mode": {
    "name": "ipython",
    "version": 3
   },
   "file_extension": ".py",
   "mimetype": "text/x-python",
   "name": "python",
   "nbconvert_exporter": "python",
   "pygments_lexer": "ipython3",
   "version": "3.7.6"
  }
 },
 "nbformat": 4,
 "nbformat_minor": 2
}
