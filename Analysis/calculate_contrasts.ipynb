{
 "cells": [
  {
   "cell_type": "code",
   "execution_count": null,
   "metadata": {},
   "outputs": [],
   "source": [
    "def calculate_contrasts(beta,convecs):\n",
    "    \"\"\"\n",
    "    Multiplies beta estimates per subject with contrast vectors\n",
    "    Args:\n",
    "        beta: C x R array listing beta estimates for each region\n",
    "        convecs: matrix of contrasts, e.g.: [1 0 0 0 -1]\n",
    "    Returns\n",
    "        Con: Contrast-estimate\n",
    "    \"\"\"\n",
    "    convecs=convecs.reshape(-1,1)\n",
    "    Con=np.empty((np.size(convecs, axis=1),np.size(beta, axis=0)))\n",
    "    \n",
    "    for c in range(np.size(convecs, axis=1)):\n",
    "        for R in range(np.size(beta, axis=0)):\n",
    "            #print(np.dot(convecs, beta[R,:]))\n",
    "            Con[c,R]=np.dot(convecs[:,c], beta[R,:])\n",
    "    return Con"
   ]
  }
 ],
 "metadata": {
  "kernelspec": {
   "display_name": "Python 3",
   "language": "python",
   "name": "python3"
  },
  "language_info": {
   "codemirror_mode": {
    "name": "ipython",
    "version": 3
   },
   "file_extension": ".py",
   "mimetype": "text/x-python",
   "name": "python",
   "nbconvert_exporter": "python",
   "pygments_lexer": "ipython3",
   "version": "3.7.6"
  }
 },
 "nbformat": 4,
 "nbformat_minor": 4
}
