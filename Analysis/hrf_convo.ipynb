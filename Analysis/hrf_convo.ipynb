{
 "cells": [
  {
   "cell_type": "code",
   "execution_count": null,
   "metadata": {},
   "outputs": [],
   "source": [
    "def hrf_convo(design_matrix,bf):\n",
    "    \"\"\"\n",
    "    Takes designmatrix upsampled to TR/TReso and convolves it with canonical HRF\n",
    "    Args\n",
    "        design_matrix: C * VolTreso ndarray; indicates closest Tr/TReso timepoint where an event started for specific regressor\n",
    "        bf: basis function - will usually be the hrf; 1D array\n",
    "    Returns\n",
    "        design_matrix_conv: C*Vol array with predicted BOLD response\n",
    "    \"\"\"\n",
    "    design_matrix_pad=np.pad(design_matrix,((0,len(bf)),(0, 0))) # pad with zeros, so we can fit the hrf also for very late events\n",
    "    design_matrix_conv=np.empty(design_matrix_pad.shape) # prepare convolved design matrix\n",
    "    for C in range(len(design_matrix[1])): # for each condition C\n",
    "\n",
    "        design_matrix_conv[:,C]=np.convolve(design_matrix_pad[:len(design_matrix_pad[0])-(len(bf)+1),C],bf) #convolute with design with bf\n",
    "\n",
    "    design_matrix_downsampled=design_matrix_conv[:len(design_matrix_pad[0])-(len(bf)+2),:] # cut back the padded stuff\n",
    "\n",
    "    design_matrix_downsampled=design_matrix_downsampled[0::10,:] # pick every time-point where we have a volume\n",
    "    constant=np.ones((len(design_matrix_downsampled),1),dtype=int) # generate constant (intercept)\n",
    "    design_matrix_downsampled=np.append(design_matrix_downsampled,constant,axis=1) #append intercept to design matrix\n",
    "    return design_matrix_downsampled"
   ]
  }
 ],
 "metadata": {
  "kernelspec": {
   "display_name": "Python 3",
   "language": "python",
   "name": "python3"
  },
  "language_info": {
   "codemirror_mode": {
    "name": "ipython",
    "version": 3
   },
   "file_extension": ".py",
   "mimetype": "text/x-python",
   "name": "python",
   "nbconvert_exporter": "python",
   "pygments_lexer": "ipython3",
   "version": "3.7.6"
  }
 },
 "nbformat": 4,
 "nbformat_minor": 4
}
