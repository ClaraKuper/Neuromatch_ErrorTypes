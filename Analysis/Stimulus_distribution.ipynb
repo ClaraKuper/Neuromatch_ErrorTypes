{
 "cells": [
  {
   "cell_type": "markdown",
   "metadata": {},
   "source": [
    "# Calculate error distribution across stimuli "
   ]
  },
  {
   "cell_type": "code",
   "execution_count": 212,
   "metadata": {},
   "outputs": [],
   "source": [
    "import os\n",
    "import numpy as np\n",
    "import matplotlib.pyplot as plt\n",
    "import sys\n",
    "np.set_printoptions(threshold=sys.maxsize)\n",
    "import warnings\n",
    "warnings.filterwarnings(\"ignore\", message=\"genfromtxt\")\n",
    "\n",
    "N_SUBJECTS = 339\n",
    "subjects = range(N_SUBJECTS)\n",
    "HCP_DIR = '.'\n",
    "bold_run = [\"tfMRI_WM_RL\", \"tfMRI_WM_LR\"]"
   ]
  },
  {
   "cell_type": "markdown",
   "metadata": {},
   "source": [
    "## Helper function"
   ]
  },
  {
   "cell_type": "code",
   "execution_count": 213,
   "metadata": {},
   "outputs": [],
   "source": [
    "def mask_subs_no_error(files_oI, subjects, HCP_DIR, bold_run):\n",
    "    \n",
    "    \"\"\"Get list of subject with 0 errors in at least one condition \n",
    "       in task.\n",
    "\n",
    "    Args:\n",
    "      files_oI (list of strings) : list of condition .txt files to check ()\n",
    "      subjects (list of int) : subjects t\n",
    "      HCP_DIR(str): directory path\n",
    "      bold_run(list): list of bold_runs (\"tfMRI_WM_RL\", \"tfMRI_WM_LR\")      \n",
    "      \n",
    "    Returns:\n",
    "       2x excl_subs_**** (tuple) : list of unique subjects\n",
    "\n",
    "    \"\"\"\n",
    "\n",
    "    warnings.filterwarnings(\"ignore\", message=\"genfromtxt\")\n",
    "\n",
    "\n",
    "    files_oI = files_oI        #currently ['2bk_err.txt', '2bk_nlr.txt']\n",
    "\n",
    "    excl_subs_tfMRI_WM_RL = [] ##initialize list per task \n",
    "    excl_subs_tfMRI_WM_LR = []\n",
    "    \n",
    "\n",
    "    for t in bold_run: # iterate over task and subjects\n",
    "\n",
    "        for sub in subjects:\n",
    "\n",
    "            path = HCP_DIR + \"/subjects/{}/EVs/{}\".format(sub,t) #set path\n",
    "            files = os.listdir(path)\n",
    "            files = [file for file in files if file in files_oI] # choose files of interest from path\n",
    "\n",
    "            for file in files:\n",
    "                f = np.genfromtxt(path + \"/\" + file)\n",
    "\n",
    "                if f.size == 0: # check for empty files in specific task\n",
    "                    if t == \"tfMRI_WM_RL\":\n",
    "                        excl_subs_tfMRI_WM_RL.append(sub) # append to respective list \n",
    "                    else:\n",
    "                        excl_subs_tfMRI_WM_LR.append(sub)\n",
    "                        \n",
    "    #print(len(list(set(excl_subs_tfMRI_WM_RL)))) ###sanity check\n",
    "    #print(len(list(set(excl_subs_tfMRI_WM_LR))))                    \n",
    "\n",
    "    # return unique subjects per task, hint: if files_oI contains > 1 condition, doubles are possible  \n",
    "    return (list(set(excl_subs_tfMRI_WM_RL)), list(set(excl_subs_tfMRI_WM_LR)))\n",
    "\n",
    "\n",
    "def return_X_sorted(HCP_DIR, subject, task_key):\n",
    "    '''Loads _cor.txt and _err.txt files, concatenates and sorts after time\n",
    "    \n",
    "    Args:\n",
    "    - HCP_DIR (str)  : path of directory \n",
    "    - subject (int)  : current subject \n",
    "    - task_key(str)  : task key of current task\n",
    "    \n",
    "    Returns: \n",
    "    - X (np.ndarray) : 80x2 ndarray with columns time stamp and errors (1 = error)\n",
    "    '''\n",
    "    corr = np.genfromtxt(f\"{HCP_DIR}/subjects/{subject}/EVs/{task_key}/all_bk_cor.txt\")\n",
    "    err =  np.genfromtxt(f\"{HCP_DIR}/subjects/{subject}/EVs/{task_key}/all_bk_err.txt\")\n",
    "    corr = np.hstack((corr[:,0].reshape(-1,1), np.zeros_like(corr[:,0].reshape(-1,1))))\n",
    "    if err.size == 3: \n",
    "        err = err[np.newaxis, :]\n",
    "        err = np.hstack((err[:,0].reshape(-1,1), np.ones_like(err[:,0]).reshape(-1,1)))\n",
    "        X = np.vstack((corr, err))\n",
    "        X = X[X[:,0].argsort()]\n",
    "    elif err.size == 0: \n",
    "        X = corr\n",
    "    else: \n",
    "        err = np.hstack((err[:,0].reshape(-1,1), np.ones_like(err[:,0]).reshape(-1,1)))\n",
    "        X = np.vstack((corr, err))\n",
    "        X = X[X[:,0].argsort()]\n",
    "    return X "
   ]
  },
  {
   "cell_type": "markdown",
   "metadata": {},
   "source": [
    "## Function error distribution stimulus"
   ]
  },
  {
   "cell_type": "code",
   "execution_count": 214,
   "metadata": {},
   "outputs": [],
   "source": [
    "def error_distribution_stimulus(subjects, HCP_DIR):\n",
    "    '''Returns distribution of errors across stimuli \n",
    "    Args: \n",
    "    - subjects (tuples):     list of subjects\n",
    "    - HCP_DIR (str)  :       path of directory \n",
    "    - task_key(str)  :       task key of current task   \n",
    "    \n",
    "    Returns: \n",
    "    - cum_err (nd.array, 1x16):  errors across stimuli     \n",
    "    '''\n",
    "    stimuli = ['faces', 'body', 'tools', 'places']\n",
    "    task_keys = [\"tfMRI_WM_RL\", \"tfMRI_WM_LR\"]\n",
    "    errortypes = ['0bk_', '2bk_']\n",
    "    cue_duration = 2.565\n",
    "    len_block = 10\n",
    "    cum_err = np.zeros([len(subjects), 16])\n",
    "    #print(subjects)\n",
    "    for subject in subjects:\n",
    "        #print(subject)\n",
    "        for task_key in task_keys:\n",
    "            #print(task_key)\n",
    "            X = return_X_sorted(HCP_DIR=HCP_DIR, subject=subject, task_key=task_key)\n",
    "            A = X\n",
    "            if task_key == 'tfMRI_WM_RL':\n",
    "                help_I_need_somebody = 0\n",
    "            else:\n",
    "                help_I_need_somebody = 8\n",
    "            for idx, errortype in enumerate(errortypes):\n",
    "                temp_zeros = np.zeros([80,4])\n",
    "                for index, stimulus in enumerate(stimuli):  \n",
    "                    stim_name = errortype + stimulus\n",
    "                    stim = np.genfromtxt(f\"{HCP_DIR}/subjects/{subject}/EVs/{task_key}/{stim_name}.txt\")\n",
    "                    min_index = np.argmin(np.abs(X[:,0] - (stim[0] + cue_duration)))\n",
    "                    # Create new column of zeros and ones \n",
    "                    temp_zeros[min_index:min_index+len_block, index] = 1\n",
    "                    T = np.hstack((X[:,0].reshape(-1,1), temp_zeros))\n",
    "                A = np.hstack((A, T[:,1:]))  \n",
    "                # Columns: Time, errors, 0_faces, 0_body, 0_tools, 0_places, 2_faces, 2_body, 2_tools, 2_places\n",
    "            #print(A)\n",
    "            for i in np.arange(2, A.shape[1]):\n",
    "                index_stimulus = np.nonzero(A[:,i]==1)  \n",
    "                cum_err[subject, i-2 + help_I_need_somebody] = np.sum(A[index_stimulus, 1])\n",
    "    \n",
    "    return cum_err\n",
    "    #print(np.sum(cum_err))\n",
    "    #print(np.sum(cum_err, axis=0))\n",
    "        \n",
    "        "
   ]
  },
  {
   "cell_type": "markdown",
   "metadata": {},
   "source": [
    "## Mask subjects without errors and calculate error distribution"
   ]
  },
  {
   "cell_type": "code",
   "execution_count": 215,
   "metadata": {},
   "outputs": [
    {
     "name": "stdout",
     "output_type": "stream",
     "text": [
      "Errors across task and stimuli: [ 92. 131. 115.  75. 129. 226. 149. 141.  65. 115. 105.  93. 135. 143.\n",
      " 133. 123.]\n"
     ]
    }
   ],
   "source": [
    "# Use Dominik's function to search for subjects WITHOUT errors \n",
    "files_oI = ['0bk_err.txt', '0bk_nlr.txt', '2bk_err.txt', '2bk_nlr.txt']\n",
    "RL, LR = mask_subs_no_error(files_oI=files_oI, subjects=subjects, HCP_DIR=HCP_DIR, bold_run=bold_run)\n",
    "# Merge lists from two runs and remove doubles \n",
    "remove_runs = np.array(list(set(RL + LR)))  \n",
    "# Get error distribution across tasks and stimulies for all subjects\n",
    "cum_err = error_distribution_stimulus(subjects=np.arange(N_SUBJECTS), HCP_DIR=HCP_DIR)\n",
    "# Delete subjects with errors (mask) \n",
    "sub_no_error = np.delete(np.arange(N_SUBJECTS), remove_runs)\n",
    "# Get error distribution across tasks and stimulies for all subjects\n",
    "cum_err_stim = np.sum(cum_err[sub_no_error], axis=0)\n",
    "print('Errors across task and stimuli: {}'.format(cum_err_stim))"
   ]
  },
  {
   "cell_type": "markdown",
   "metadata": {},
   "source": [
    "## Join two runs "
   ]
  },
  {
   "cell_type": "code",
   "execution_count": 216,
   "metadata": {},
   "outputs": [],
   "source": [
    "# First run\n",
    "RL = cum_err_stim[0:8]\n",
    "# Second run\n",
    "LR = cum_err_stim[8:]\n",
    "# Join two runs \n",
    "all_phases = RL + LR"
   ]
  },
  {
   "cell_type": "markdown",
   "metadata": {},
   "source": [
    "## Plot pie chart"
   ]
  },
  {
   "cell_type": "code",
   "execution_count": 254,
   "metadata": {},
   "outputs": [
    {
     "data": {
      "image/png": "[encoded data removed]",
      "text/plain": [
       "<Figure size 576x504 with 1 Axes>"
      ]
     },
     "metadata": {},
     "output_type": "display_data"
    }
   ],
   "source": [
    "# Pie chart, where the slices will be ordered and plotted counter-clockwise:\n",
    "stims = ['0bk_faces', '0bk_body', '0bk_tools', '0bk_places'\n",
    "        , '2bk_faces', '2bk_body', '2bk_tools', '2bk_places']\n",
    "\n",
    "labels = stims \n",
    "sizes = all_phases\n",
    "explode = (0, 0, 0, 0, 0, 0, 0, 0)  # only \"explode\" the 2nd slice (i.e. 'Hogs')\n",
    "plt.rcParams[\"font.family\"] = 'Helvetica'\n",
    "plt.rcParams[\"font.size\"] = 12\n",
    "plt.rcParams[\"figure.figsize\"] = [8, 7]\n",
    "fig1, ax1 = plt.subplots()\n",
    "ax1.pie(sizes, labels=labels, autopct='%1.1f%%',\n",
    "        shadow=False, startangle=-40)\n",
    "ax1.axis('equal')  # Equal aspect ratio ensures that pie is drawn as a circle.\n",
    "plt.title('Distribution of the erroneous hamsters', fontsize=18)\n",
    "text_total_error = 'N of errors: \\n{0}'.format(int(np.sum(all_phases)))\n",
    "plt.text(0, 0, text_total_error, ha='center', va='center', bbox = dict(boxstyle='square', fc=(1,1,1), ec='None'))\n",
    "plt.show()\n",
    "fig1.savefig('./fig1', dpi=300)"
   ]
  },
  {
   "cell_type": "code",
   "execution_count": null,
   "metadata": {},
   "outputs": [],
   "source": []
  }
 ],
 "metadata": {
  "kernelspec": {
   "display_name": "Python 3",
   "language": "python",
   "name": "python3"
  },
  "language_info": {
   "codemirror_mode": {
    "name": "ipython",
    "version": 3
   },
   "file_extension": ".py",
   "mimetype": "text/x-python",
   "name": "python",
   "nbconvert_exporter": "python",
   "pygments_lexer": "ipython3",
   "version": "3.7.4"
  },
  "toc": {
   "base_numbering": 1,
   "nav_menu": {},
   "number_sections": true,
   "sideBar": true,
   "skip_h1_title": false,
   "title_cell": "Table of Contents",
   "title_sidebar": "Contents",
   "toc_cell": false,
   "toc_position": {},
   "toc_section_display": true,
   "toc_window_display": true
  }
 },
 "nbformat": 4,
 "nbformat_minor": 2
}
